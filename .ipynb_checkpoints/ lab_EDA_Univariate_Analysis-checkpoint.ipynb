{
 "cells": [
  {
   "cell_type": "code",
   "execution_count": null,
   "id": "186b75e5-46e9-46a0-993b-7e5125240fc5",
   "metadata": {},
   "outputs": [],
   "source": [
    "import pandas as pd\n",
    "\n",
    "df = pd.read_csv('amz_uk_price_prediction_dataset.csv')\n",
    "df"
   ]
  },
  {
   "cell_type": "markdown",
   "id": "3beae69d-f3a5-474b-961f-89ef79d2a469",
   "metadata": {},
   "source": [
    "### Part 1: Understanding Product Categories\n",
    "Business Question: What are the most popular product categories on Amazon UK, and how do they compare in terms of listing frequency?\n",
    "\n",
    "Frequency Tables:\n",
    "\n",
    "Generate a frequency table for the product category.\n",
    "Which are the top 5 most listed product categories?"
   ]
  },
  {
   "cell_type": "code",
   "execution_count": null,
   "id": "6eb77e6f-63c2-4855-8c23-2981cf473dc0",
   "metadata": {},
   "outputs": [],
   "source": [
    "df_frequency = df['category'].value_counts() \n",
    "df_frequency"
   ]
  },
  {
   "cell_type": "code",
   "execution_count": null,
   "id": "d8ae0ebd-7b4d-440f-aa42-e68cfb7bf2eb",
   "metadata": {},
   "outputs": [],
   "source": [
    "df_frequency.head()"
   ]
  },
  {
   "cell_type": "markdown",
   "id": "d1376932-09fb-4026-a18b-5e1513e11d5c",
   "metadata": {},
   "source": [
    "Sports & Outdoors, Beauty, Handmade Clothing, Shoes & Accessories, Bath & Body and Birthday Gifts are the top most frequent categories.\n"
   ]
  },
  {
   "cell_type": "markdown",
   "id": "073beca8-c5b0-42d4-9ae3-d8eeef89f4f0",
   "metadata": {},
   "source": [
    "### Visualizations:\n",
    "\n",
    "Display the distribution of products across different categories using a bar chart. If you face problems understanding the chart, do it for a subset of top categories.\n",
    "For a subset of top categories, visualize their proportions using a pie chart. Does any category dominate the listings?"
   ]
  },
  {
   "cell_type": "code",
   "execution_count": null,
   "id": "842b086f-e8cf-4770-97d2-9f760c973cb7",
   "metadata": {},
   "outputs": [],
   "source": [
    "import matplotlib.pyplot as plt\n",
    "import numpy as np\n",
    "\n",
    "# Create a bar chart\n",
    "df_frequency.groupby(['Sports & Outdoors']).sum().plot(kind='pie', y='votes_of_each_class')\n"
   ]
  },
  {
   "cell_type": "code",
   "execution_count": null,
   "id": "a3330311-434a-4e12-b0e3-514872cdea27",
   "metadata": {},
   "outputs": [],
   "source": []
  }
 ],
 "metadata": {
  "kernelspec": {
   "display_name": "Python 3 (ipykernel)",
   "language": "python",
   "name": "python3"
  },
  "language_info": {
   "codemirror_mode": {
    "name": "ipython",
    "version": 3
   },
   "file_extension": ".py",
   "mimetype": "text/x-python",
   "name": "python",
   "nbconvert_exporter": "python",
   "pygments_lexer": "ipython3",
   "version": "3.12.2"
  }
 },
 "nbformat": 4,
 "nbformat_minor": 5
}
